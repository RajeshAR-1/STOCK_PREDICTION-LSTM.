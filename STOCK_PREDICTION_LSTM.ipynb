{
  "nbformat": 4,
  "nbformat_minor": 0,
  "metadata": {
    "colab": {
      "name": "STOCK_PREDICTION-LSTM.ipynb",
      "provenance": []
    },
    "kernelspec": {
      "name": "python3",
      "display_name": "Python 3"
    },
    "language_info": {
      "name": "python"
    }
  },
  "cells": [
    {
      "cell_type": "code",
      "metadata": {
        "id": "a7dtdgAC181G"
      },
      "source": [
        ""
      ],
      "execution_count": null,
      "outputs": []
    },
    {
      "cell_type": "code",
      "metadata": {
        "id": "GifAzOiB1_0i"
      },
      "source": [
        "import numpy as np\n",
        "import pandas as pd\n",
        "import matplotlib.pyplot as plt\n",
        "from sklearn.preprocessing import MinMaxScaler\n",
        "from keras.models import Sequential, load_model\n",
        "from keras.layers import LSTM, Dense, Dropout\n",
        "import os"
      ],
      "execution_count": null,
      "outputs": []
    },
    {
      "cell_type": "code",
      "metadata": {
        "colab": {
          "base_uri": "https://localhost:8080/",
          "height": 200
        },
        "id": "x3lSMW-W1_21",
        "outputId": "7aed3902-cf78-4ff0-c496-1da88ef9122f"
      },
      "source": [
        "df = pd.read_csv('/content/AAPL.csv')\n",
        "df.head()"
      ],
      "execution_count": null,
      "outputs": [
        {
          "output_type": "execute_result",
          "data": {
            "text/html": [
              "<div>\n",
              "<style scoped>\n",
              "    .dataframe tbody tr th:only-of-type {\n",
              "        vertical-align: middle;\n",
              "    }\n",
              "\n",
              "    .dataframe tbody tr th {\n",
              "        vertical-align: top;\n",
              "    }\n",
              "\n",
              "    .dataframe thead th {\n",
              "        text-align: right;\n",
              "    }\n",
              "</style>\n",
              "<table border=\"1\" class=\"dataframe\">\n",
              "  <thead>\n",
              "    <tr style=\"text-align: right;\">\n",
              "      <th></th>\n",
              "      <th>Unnamed: 0</th>\n",
              "      <th>symbol</th>\n",
              "      <th>date</th>\n",
              "      <th>close</th>\n",
              "      <th>high</th>\n",
              "      <th>low</th>\n",
              "      <th>open</th>\n",
              "      <th>volume</th>\n",
              "      <th>adjClose</th>\n",
              "      <th>adjHigh</th>\n",
              "      <th>adjLow</th>\n",
              "      <th>adjOpen</th>\n",
              "      <th>adjVolume</th>\n",
              "      <th>divCash</th>\n",
              "      <th>splitFactor</th>\n",
              "    </tr>\n",
              "  </thead>\n",
              "  <tbody>\n",
              "    <tr>\n",
              "      <th>0</th>\n",
              "      <td>0</td>\n",
              "      <td>AAPL</td>\n",
              "      <td>2015-05-27 00:00:00+00:00</td>\n",
              "      <td>132.045</td>\n",
              "      <td>132.260</td>\n",
              "      <td>130.05</td>\n",
              "      <td>130.34</td>\n",
              "      <td>45833246</td>\n",
              "      <td>121.682558</td>\n",
              "      <td>121.880685</td>\n",
              "      <td>119.844118</td>\n",
              "      <td>120.111360</td>\n",
              "      <td>45833246</td>\n",
              "      <td>0.0</td>\n",
              "      <td>1.0</td>\n",
              "    </tr>\n",
              "    <tr>\n",
              "      <th>1</th>\n",
              "      <td>1</td>\n",
              "      <td>AAPL</td>\n",
              "      <td>2015-05-28 00:00:00+00:00</td>\n",
              "      <td>131.780</td>\n",
              "      <td>131.950</td>\n",
              "      <td>131.10</td>\n",
              "      <td>131.86</td>\n",
              "      <td>30733309</td>\n",
              "      <td>121.438354</td>\n",
              "      <td>121.595013</td>\n",
              "      <td>120.811718</td>\n",
              "      <td>121.512076</td>\n",
              "      <td>30733309</td>\n",
              "      <td>0.0</td>\n",
              "      <td>1.0</td>\n",
              "    </tr>\n",
              "    <tr>\n",
              "      <th>2</th>\n",
              "      <td>2</td>\n",
              "      <td>AAPL</td>\n",
              "      <td>2015-05-29 00:00:00+00:00</td>\n",
              "      <td>130.280</td>\n",
              "      <td>131.450</td>\n",
              "      <td>129.90</td>\n",
              "      <td>131.23</td>\n",
              "      <td>50884452</td>\n",
              "      <td>120.056069</td>\n",
              "      <td>121.134251</td>\n",
              "      <td>119.705890</td>\n",
              "      <td>120.931516</td>\n",
              "      <td>50884452</td>\n",
              "      <td>0.0</td>\n",
              "      <td>1.0</td>\n",
              "    </tr>\n",
              "    <tr>\n",
              "      <th>3</th>\n",
              "      <td>3</td>\n",
              "      <td>AAPL</td>\n",
              "      <td>2015-06-01 00:00:00+00:00</td>\n",
              "      <td>130.535</td>\n",
              "      <td>131.390</td>\n",
              "      <td>130.05</td>\n",
              "      <td>131.20</td>\n",
              "      <td>32112797</td>\n",
              "      <td>120.291057</td>\n",
              "      <td>121.078960</td>\n",
              "      <td>119.844118</td>\n",
              "      <td>120.903870</td>\n",
              "      <td>32112797</td>\n",
              "      <td>0.0</td>\n",
              "      <td>1.0</td>\n",
              "    </tr>\n",
              "    <tr>\n",
              "      <th>4</th>\n",
              "      <td>4</td>\n",
              "      <td>AAPL</td>\n",
              "      <td>2015-06-02 00:00:00+00:00</td>\n",
              "      <td>129.960</td>\n",
              "      <td>130.655</td>\n",
              "      <td>129.32</td>\n",
              "      <td>129.86</td>\n",
              "      <td>33667627</td>\n",
              "      <td>119.761181</td>\n",
              "      <td>120.401640</td>\n",
              "      <td>119.171406</td>\n",
              "      <td>119.669029</td>\n",
              "      <td>33667627</td>\n",
              "      <td>0.0</td>\n",
              "      <td>1.0</td>\n",
              "    </tr>\n",
              "  </tbody>\n",
              "</table>\n",
              "</div>"
            ],
            "text/plain": [
              "   Unnamed: 0 symbol  ... divCash  splitFactor\n",
              "0           0   AAPL  ...     0.0          1.0\n",
              "1           1   AAPL  ...     0.0          1.0\n",
              "2           2   AAPL  ...     0.0          1.0\n",
              "3           3   AAPL  ...     0.0          1.0\n",
              "4           4   AAPL  ...     0.0          1.0\n",
              "\n",
              "[5 rows x 15 columns]"
            ]
          },
          "metadata": {},
          "execution_count": 2
        }
      ]
    },
    {
      "cell_type": "code",
      "metadata": {
        "colab": {
          "base_uri": "https://localhost:8080/"
        },
        "id": "ZteQxHr91_48",
        "outputId": "55f7cfe4-4ced-47f5-fbcf-6beecbcfaed2"
      },
      "source": [
        "df = df['open'].values\n",
        "df = df.reshape(-1, 1)\n",
        "print(df.shape)\n",
        "df[:5]"
      ],
      "execution_count": null,
      "outputs": [
        {
          "output_type": "stream",
          "name": "stdout",
          "text": [
            "(1258, 1)\n"
          ]
        },
        {
          "output_type": "execute_result",
          "data": {
            "text/plain": [
              "array([[130.34],\n",
              "       [131.86],\n",
              "       [131.23],\n",
              "       [131.2 ],\n",
              "       [129.86]])"
            ]
          },
          "metadata": {},
          "execution_count": 3
        }
      ]
    },
    {
      "cell_type": "code",
      "metadata": {
        "colab": {
          "base_uri": "https://localhost:8080/"
        },
        "id": "BYtF6qmD1_7H",
        "outputId": "e2cc81ca-6d1c-44f8-ad5e-bf8bac6cedee"
      },
      "source": [
        "\n",
        "dataset_train = np.array(df[:int(df.shape[0]*0.8)])\n",
        "dataset_test = np.array(df[int(df.shape[0]*0.8)-50:])\n",
        "print(dataset_train.shape)\n",
        "print(dataset_test.shape)"
      ],
      "execution_count": null,
      "outputs": [
        {
          "output_type": "stream",
          "name": "stdout",
          "text": [
            "(1006, 1)\n",
            "(302, 1)\n"
          ]
        }
      ]
    },
    {
      "cell_type": "code",
      "metadata": {
        "colab": {
          "base_uri": "https://localhost:8080/"
        },
        "id": "qNeiFkrK1_9T",
        "outputId": "aac54293-5b22-4b9d-ddd2-37d0196e2ba7"
      },
      "source": [
        "scaler = MinMaxScaler(feature_range=(0,1))\n",
        "dataset_train = scaler.fit_transform(dataset_train)\n",
        "dataset_train[:5]"
      ],
      "execution_count": null,
      "outputs": [
        {
          "output_type": "execute_result",
          "data": {
            "text/plain": [
              "array([[0.28654638],\n",
              "       [0.29734337],\n",
              "       [0.29286831],\n",
              "       [0.29265521],\n",
              "       [0.28313681]])"
            ]
          },
          "metadata": {},
          "execution_count": 5
        }
      ]
    },
    {
      "cell_type": "code",
      "metadata": {
        "colab": {
          "base_uri": "https://localhost:8080/"
        },
        "id": "c05rzf_72AAm",
        "outputId": "979efbfd-bdbb-4069-c5e5-6721c6fb8401"
      },
      "source": [
        "dataset_test = scaler.transform(dataset_test)\n",
        "dataset_test[:5]"
      ],
      "execution_count": null,
      "outputs": [
        {
          "output_type": "execute_result",
          "data": {
            "text/plain": [
              "array([[0.66699815],\n",
              "       [0.67374627],\n",
              "       [0.68049439],\n",
              "       [0.69860776],\n",
              "       [0.6835488 ]])"
            ]
          },
          "metadata": {},
          "execution_count": 6
        }
      ]
    },
    {
      "cell_type": "code",
      "metadata": {
        "id": "EM7Xvj7i4JRZ"
      },
      "source": [
        "def create_dataset(df):\n",
        "    x = []\n",
        "    y = []\n",
        "    for i in range(50, df.shape[0]):\n",
        "        x.append(df[i-50:i, 0])\n",
        "        y.append(df[i, 0])\n",
        "    x = np.array(x)\n",
        "    y = np.array(y)\n",
        "    return x,y"
      ],
      "execution_count": null,
      "outputs": []
    },
    {
      "cell_type": "code",
      "metadata": {
        "colab": {
          "base_uri": "https://localhost:8080/"
        },
        "id": "bjG19ZQK4JTk",
        "outputId": "107519ac-b61f-4ae4-dff8-1253c5023214"
      },
      "source": [
        "x_train, y_train = create_dataset(dataset_train)\n",
        "x_train[:1]"
      ],
      "execution_count": null,
      "outputs": [
        {
          "output_type": "execute_result",
          "data": {
            "text/plain": [
              "array([[0.28654638, 0.29734337, 0.29286831, 0.29265521, 0.28313681,\n",
              "        0.28881943, 0.28114789, 0.28057963, 0.27631766, 0.26069044,\n",
              "        0.26935644, 0.27830658, 0.27123881, 0.25642847, 0.26303452,\n",
              "        0.26793579, 0.26445518, 0.26786475, 0.26630203, 0.266231  ,\n",
              "        0.26431311, 0.27603353, 0.26758062, 0.25188237, 0.25266373,\n",
              "        0.2621111 , 0.25877255, 0.24818866, 0.25493678, 0.24492115,\n",
              "        0.24044609, 0.22687882, 0.24882796, 0.25600227, 0.25372922,\n",
              "        0.26807785, 0.27759625, 0.29102145, 0.30437562, 0.22723398,\n",
              "        0.2571388 , 0.25088791, 0.23504759, 0.23710754, 0.23547379,\n",
              "        0.22957807, 0.23156698, 0.22375337, 0.19477198, 0.16302032]])"
            ]
          },
          "metadata": {},
          "execution_count": 8
        }
      ]
    },
    {
      "cell_type": "code",
      "metadata": {
        "colab": {
          "base_uri": "https://localhost:8080/"
        },
        "id": "MfSRAr_C4TTb",
        "outputId": "aff6b454-4b3d-42d4-86fa-a0fe2b630e00"
      },
      "source": [
        "\n",
        "x_test, y_test = create_dataset(dataset_test)\n",
        "x_test[:1]"
      ],
      "execution_count": null,
      "outputs": [
        {
          "output_type": "execute_result",
          "data": {
            "text/plain": [
              "array([[0.66699815, 0.67374627, 0.68049439, 0.69860776, 0.6835488 ,\n",
              "        0.71047024, 0.7482597 , 0.72105413, 0.72214803, 0.70144907,\n",
              "        0.70286973, 0.70912061, 0.72197755, 0.71807075, 0.73341384,\n",
              "        0.74435289, 0.75614434, 0.75593124, 0.78363404, 0.77198466,\n",
              "        0.78739878, 0.77567836, 0.77127433, 0.77752522, 0.77809348,\n",
              "        0.80352323, 0.80146328, 0.81282853, 0.83364114, 0.8298764 ,\n",
              "        0.81616707, 0.81261543, 0.80309703, 0.85154141, 0.85125728,\n",
              "        0.85871573, 0.81183407, 0.82312829, 0.79485722, 0.7842023 ,\n",
              "        0.76302742, 0.69406166, 0.68482739, 0.68383293, 0.70968888,\n",
              "        0.6885211 , 0.66429891, 0.67637449, 0.67239665, 0.6378747 ]])"
            ]
          },
          "metadata": {},
          "execution_count": 9
        }
      ]
    },
    {
      "cell_type": "code",
      "metadata": {
        "id": "9hIuJtot4TVd"
      },
      "source": [
        "# Reshape features for LSTM Layer\n",
        "x_train = np.reshape(x_train, (x_train.shape[0], x_train.shape[1], 1))\n",
        "x_test = np.reshape(x_test, (x_test.shape[0], x_test.shape[1], 1))"
      ],
      "execution_count": null,
      "outputs": []
    },
    {
      "cell_type": "code",
      "metadata": {
        "id": "lgB2L1en4TXU"
      },
      "source": [
        "model = Sequential()\n",
        "model.add(LSTM(units=96, return_sequences=True, input_shape=(x_train.shape[1], 1)))\n",
        "model.add(Dropout(0.2))\n",
        "model.add(LSTM(units=96, return_sequences=True))\n",
        "model.add(Dropout(0.2))\n",
        "model.add(LSTM(units=96, return_sequences=True))\n",
        "model.add(Dropout(0.2))\n",
        "model.add(LSTM(units=96))\n",
        "model.add(Dropout(0.2))\n",
        "model.add(Dense(units=1))"
      ],
      "execution_count": null,
      "outputs": []
    },
    {
      "cell_type": "code",
      "metadata": {
        "id": "0xv2ylyB4TZV"
      },
      "source": [
        "model.compile(loss='mean_squared_error', optimizer='adam')"
      ],
      "execution_count": null,
      "outputs": []
    },
    {
      "cell_type": "code",
      "metadata": {
        "colab": {
          "base_uri": "https://localhost:8080/"
        },
        "id": "BT6vhOb74TcT",
        "outputId": "1da42e33-f6a3-4805-fd72-b4ab573f9d5d"
      },
      "source": [
        "if(not os.path.exists('stock_prediction.h5')):\n",
        "    model.fit(x_train, y_train, epochs=50, batch_size=32)\n",
        "    model.save('stock_prediction.h5')"
      ],
      "execution_count": null,
      "outputs": [
        {
          "output_type": "stream",
          "name": "stdout",
          "text": [
            "Epoch 1/50\n",
            "30/30 [==============================] - 12s 169ms/step - loss: 0.0367\n",
            "Epoch 2/50\n",
            "30/30 [==============================] - 5s 166ms/step - loss: 0.0053\n",
            "Epoch 3/50\n",
            "30/30 [==============================] - 5s 165ms/step - loss: 0.0047\n",
            "Epoch 4/50\n",
            "30/30 [==============================] - 5s 167ms/step - loss: 0.0051\n",
            "Epoch 5/50\n",
            "30/30 [==============================] - 5s 165ms/step - loss: 0.0038\n",
            "Epoch 6/50\n",
            "30/30 [==============================] - 5s 168ms/step - loss: 0.0039\n",
            "Epoch 7/50\n",
            "30/30 [==============================] - 5s 166ms/step - loss: 0.0047\n",
            "Epoch 8/50\n",
            "30/30 [==============================] - 5s 167ms/step - loss: 0.0050\n",
            "Epoch 9/50\n",
            "30/30 [==============================] - 5s 166ms/step - loss: 0.0043\n",
            "Epoch 10/50\n",
            "30/30 [==============================] - 5s 170ms/step - loss: 0.0035\n",
            "Epoch 11/50\n",
            "30/30 [==============================] - 5s 165ms/step - loss: 0.0036\n",
            "Epoch 12/50\n",
            "30/30 [==============================] - 5s 167ms/step - loss: 0.0035\n",
            "Epoch 13/50\n",
            "30/30 [==============================] - 5s 168ms/step - loss: 0.0035\n",
            "Epoch 14/50\n",
            "30/30 [==============================] - 5s 166ms/step - loss: 0.0028\n",
            "Epoch 15/50\n",
            "30/30 [==============================] - 5s 167ms/step - loss: 0.0031\n",
            "Epoch 16/50\n",
            "30/30 [==============================] - 5s 167ms/step - loss: 0.0029\n",
            "Epoch 17/50\n",
            "30/30 [==============================] - 5s 169ms/step - loss: 0.0026\n",
            "Epoch 18/50\n",
            "30/30 [==============================] - 5s 168ms/step - loss: 0.0026\n",
            "Epoch 19/50\n",
            "30/30 [==============================] - 5s 168ms/step - loss: 0.0028\n",
            "Epoch 20/50\n",
            "30/30 [==============================] - 5s 169ms/step - loss: 0.0028\n",
            "Epoch 21/50\n",
            "30/30 [==============================] - 5s 170ms/step - loss: 0.0027\n",
            "Epoch 22/50\n",
            "30/30 [==============================] - 5s 166ms/step - loss: 0.0029\n",
            "Epoch 23/50\n",
            "30/30 [==============================] - 5s 169ms/step - loss: 0.0027\n",
            "Epoch 24/50\n",
            "30/30 [==============================] - 5s 170ms/step - loss: 0.0025\n",
            "Epoch 25/50\n",
            "30/30 [==============================] - 5s 168ms/step - loss: 0.0025\n",
            "Epoch 26/50\n",
            "30/30 [==============================] - 5s 166ms/step - loss: 0.0023\n",
            "Epoch 27/50\n",
            "30/30 [==============================] - 5s 167ms/step - loss: 0.0023\n",
            "Epoch 28/50\n",
            "30/30 [==============================] - 5s 166ms/step - loss: 0.0026\n",
            "Epoch 29/50\n",
            "30/30 [==============================] - 5s 168ms/step - loss: 0.0028\n",
            "Epoch 30/50\n",
            "30/30 [==============================] - 5s 165ms/step - loss: 0.0021\n",
            "Epoch 31/50\n",
            "30/30 [==============================] - 5s 169ms/step - loss: 0.0023\n",
            "Epoch 32/50\n",
            "30/30 [==============================] - 5s 169ms/step - loss: 0.0021\n",
            "Epoch 33/50\n",
            "30/30 [==============================] - 5s 168ms/step - loss: 0.0021\n",
            "Epoch 34/50\n",
            "30/30 [==============================] - 5s 168ms/step - loss: 0.0019\n",
            "Epoch 35/50\n",
            "30/30 [==============================] - 5s 169ms/step - loss: 0.0025\n",
            "Epoch 36/50\n",
            "30/30 [==============================] - 5s 166ms/step - loss: 0.0019\n",
            "Epoch 37/50\n",
            "30/30 [==============================] - 5s 168ms/step - loss: 0.0020\n",
            "Epoch 38/50\n",
            "30/30 [==============================] - 5s 167ms/step - loss: 0.0018\n",
            "Epoch 39/50\n",
            "30/30 [==============================] - 5s 167ms/step - loss: 0.0018\n",
            "Epoch 40/50\n",
            "30/30 [==============================] - 5s 166ms/step - loss: 0.0022\n",
            "Epoch 41/50\n",
            "30/30 [==============================] - 5s 166ms/step - loss: 0.0017\n",
            "Epoch 42/50\n",
            "30/30 [==============================] - 5s 166ms/step - loss: 0.0020\n",
            "Epoch 43/50\n",
            "30/30 [==============================] - 5s 166ms/step - loss: 0.0020\n",
            "Epoch 44/50\n",
            "30/30 [==============================] - 5s 169ms/step - loss: 0.0017\n",
            "Epoch 45/50\n",
            "30/30 [==============================] - 5s 167ms/step - loss: 0.0017\n",
            "Epoch 46/50\n",
            "30/30 [==============================] - 5s 167ms/step - loss: 0.0015\n",
            "Epoch 47/50\n",
            "30/30 [==============================] - 5s 167ms/step - loss: 0.0019\n",
            "Epoch 48/50\n",
            "30/30 [==============================] - 5s 167ms/step - loss: 0.0018\n",
            "Epoch 49/50\n",
            "30/30 [==============================] - 5s 167ms/step - loss: 0.0016\n",
            "Epoch 50/50\n",
            "30/30 [==============================] - 5s 166ms/step - loss: 0.0020\n"
          ]
        }
      ]
    },
    {
      "cell_type": "code",
      "metadata": {
        "id": "ObDgI0Ic4Tgd"
      },
      "source": [
        "model = load_model('stock_prediction.h5')"
      ],
      "execution_count": null,
      "outputs": []
    },
    {
      "cell_type": "code",
      "metadata": {
        "colab": {
          "base_uri": "https://localhost:8080/",
          "height": 281
        },
        "id": "NKO3arWy4Txw",
        "outputId": "d440893c-fd0a-4da0-bc97-759ffd9e8d90"
      },
      "source": [
        "predictions = model.predict(x_test)\n",
        "predictions = scaler.inverse_transform(predictions)\n",
        "\n",
        "fig, ax = plt.subplots(figsize=(8,4))\n",
        "plt.plot(df, color='red',  label=\"True Price\")\n",
        "ax.plot(range(len(y_train)+50,len(y_train)+50+len(predictions)),predictions, color='blue', label='Predicted Testing Price')\n",
        "plt.legend()"
      ],
      "execution_count": null,
      "outputs": [
        {
          "output_type": "execute_result",
          "data": {
            "text/plain": [
              "<matplotlib.legend.Legend at 0x7efe4b35a810>"
            ]
          },
          "metadata": {},
          "execution_count": 15
        },
        {
          "output_type": "display_data",
          "data": {
            "image/png": "[encoded data removed]",
            "text/plain": [
              "<Figure size 576x288 with 1 Axes>"
            ]
          },
          "metadata": {
            "needs_background": "light"
          }
        }
      ]
    },
    {
      "cell_type": "code",
      "metadata": {
        "colab": {
          "base_uri": "https://localhost:8080/",
          "height": 281
        },
        "id": "FFqwPUJV4JVa",
        "outputId": "a91bdc8b-6327-4d2e-97e1-9e361df943f5"
      },
      "source": [
        "y_test_scaled = scaler.inverse_transform(y_test.reshape(-1, 1))\n",
        "\n",
        "fig, ax = plt.subplots(figsize=(8,4))\n",
        "ax.plot(y_test_scaled, color='red', label='True Testing Price')\n",
        "plt.plot(predictions, color='blue', label='Predicted Testing Price')\n",
        "plt.legend()"
      ],
      "execution_count": null,
      "outputs": [
        {
          "output_type": "execute_result",
          "data": {
            "text/plain": [
              "<matplotlib.legend.Legend at 0x7efe4b297d90>"
            ]
          },
          "metadata": {},
          "execution_count": 16
        },
        {
          "output_type": "display_data",
          "data": {
            "image/png": "[encoded data removed]",
            "text/plain": [
              "<Figure size 576x288 with 1 Axes>"
            ]
          },
          "metadata": {
            "needs_background": "light"
          }
        }
      ]
    },
    {
      "cell_type": "code",
      "metadata": {
        "colab": {
          "base_uri": "https://localhost:8080/"
        },
        "id": "hDViNrHy41dU",
        "outputId": "97c1ff28-f16f-46a4-e1d2-df6db9be8bf2"
      },
      "source": [
        "x = x_test[-1]\n",
        "num_timesteps = 100\n",
        "preds = []\n",
        "for i in range(num_timesteps):\n",
        "    data = np.expand_dims(x, axis=0)\n",
        "    prediction = model.predict(data)\n",
        "    prediction = scaler.inverse_transform(prediction)\n",
        "    preds.append(prediction[0][0])\n",
        "    x = np.delete(x, 0, axis=0) # delete first row\n",
        "    x = np.vstack([x, prediction]) # add prediction\n",
        "\n",
        "print(preds)"
      ],
      "execution_count": null,
      "outputs": [
        {
          "output_type": "stream",
          "name": "stdout",
          "text": [
            "[298.1757, 449.77744, 509.8233, 529.4736, 538.41614, 542.60236, 544.94806, 546.36426, 547.2796, 547.89636, 548.3248, 548.6292, 548.84924, 549.011, 549.1312, 549.2217, 549.29034, 549.3435, 549.3849, 549.4178, 549.44434, 549.46674, 549.48584, 549.5028, 549.51764, 549.5307, 549.54144, 549.5502, 549.5576, 549.5656, 549.57605, 549.59155, 549.615, 549.64685, 549.6851, 549.7276, 549.7666, 549.799, 549.8235, 549.8443, 549.8732, 549.9278, 550.0238, 550.1709, 550.33374, 550.4608, 550.4945, 550.3703, 550.04, 549.4942, 548.76666, 548.7547, 548.75195, 548.75134, 548.7511, 548.75104, 548.7511, 548.7511, 548.7511, 548.75116, 548.7512, 548.7513, 548.75146, 548.7514, 548.75146, 548.75146, 548.7515, 548.75165, 548.7517, 548.7518, 548.75183, 548.7518, 548.7518, 548.75183, 548.7519, 548.75195, 548.752, 548.752, 548.7522, 548.7522, 548.75226, 548.75226, 548.7523, 548.75244, 548.75244, 548.75244, 548.75256, 548.7525, 548.75256, 548.7526, 548.7526, 548.7527, 548.75275, 548.7528, 548.7528, 548.75305, 548.7531, 548.7531, 548.7532, 548.7533]\n"
          ]
        }
      ]
    },
    {
      "cell_type": "code",
      "metadata": {
        "id": "IoRm2Fxr41ga"
      },
      "source": [
        ""
      ],
      "execution_count": null,
      "outputs": []
    },
    {
      "cell_type": "code",
      "metadata": {
        "id": "ZViM9Osa4JY2"
      },
      "source": [
        ""
      ],
      "execution_count": null,
      "outputs": []
    }
  ]
}